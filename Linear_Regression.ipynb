{
  "nbformat": 4,
  "nbformat_minor": 0,
  "metadata": {
    "colab": {
      "provenance": [],
      "toc_visible": true,
      "mount_file_id": "14b1CWxZe7xo8LBqNluQSgCpw45FODXAx",
      "authorship_tag": "ABX9TyMYcuv+70/H4+6IKTOgNHBI",
      "include_colab_link": true
    },
    "kernelspec": {
      "name": "python3",
      "display_name": "Python 3"
    },
    "language_info": {
      "name": "python"
    }
  },
  "cells": [
    {
      "cell_type": "markdown",
      "metadata": {
        "id": "view-in-github",
        "colab_type": "text"
      },
      "source": [
        "<a href=\"https://colab.research.google.com/github/HungPham2002/linear-regression-logistic-regression-torch/blob/main/Linear_Regression.ipynb\" target=\"_parent\"><img src=\"https://colab.research.google.com/assets/colab-badge.svg\" alt=\"Open In Colab\"/></a>"
      ]
    },
    {
      "cell_type": "markdown",
      "source": [
        "# Linear Regression Using neural network"
      ],
      "metadata": {
        "id": "e8pZ_1wESi46"
      }
    },
    {
      "cell_type": "code",
      "execution_count": null,
      "metadata": {
        "id": "m111hn07fN7t"
      },
      "outputs": [],
      "source": [
        "import numpy as np\n",
        "import pandas as pd\n",
        "import matplotlib.pyplot as plt\n",
        "import torch\n",
        "import torch.nn as nn\n",
        "import torch.optim as optim"
      ]
    },
    {
      "cell_type": "code",
      "source": [
        "# load dữ liệu, chuyển về dạng numpy\n",
        "data = pd.read_csv('/content/drive/MyDrive/Colab Notebooks/Basic Pytorch/data_linear.csv').values"
      ],
      "metadata": {
        "id": "1zJW5FKrLPnX"
      },
      "execution_count": null,
      "outputs": []
    },
    {
      "cell_type": "code",
      "source": [
        "# chuyển dữ liệu về dạng torch\n",
        "x = torch.tensor(data[:,0], dtype=torch.float32)\n",
        "y = torch.tensor(data[:,1], dtype=torch.float32)\n",
        "x = x.unsqueeze(1)\n",
        "y = y.unsqueeze(1)\n",
        "print(x.shape)\n",
        "print(y.shape)"
      ],
      "metadata": {
        "colab": {
          "base_uri": "https://localhost:8080/"
        },
        "id": "xd9v_zwELPpz",
        "outputId": "56095b44-6f56-4a58-83d7-3a79d9b2adeb"
      },
      "execution_count": null,
      "outputs": [
        {
          "output_type": "stream",
          "name": "stdout",
          "text": [
            "torch.Size([30, 1])\n",
            "torch.Size([30, 1])\n"
          ]
        }
      ]
    },
    {
      "cell_type": "code",
      "source": [
        "# Hàm training\n",
        "def training_loop(n_epochs, optimizer, model, loss_fn, x, y):\n",
        "    losses = []\n",
        "    for epoch in range(1, n_epochs + 1):\n",
        "      y_hat = model(x)\n",
        "      print(y_hat.shape, y.shape)\n",
        "      loss = loss_fn(y_hat, y)\n",
        "      optimizer.zero_grad()\n",
        "      loss.backward()\n",
        "      optimizer.step()\n",
        "      if epoch % 1 == 0:\n",
        "              losses.append(loss.item())\n",
        "              print('Epoch %d, Loss %f' % (epoch, float(loss)))\n",
        "    return losses"
      ],
      "metadata": {
        "id": "tThGJCOgLu5e"
      },
      "execution_count": null,
      "outputs": []
    },
    {
      "cell_type": "code",
      "source": [
        "linear_model = nn.Linear(1, 1)\n",
        "optimizer = optim.SGD(linear_model.parameters(), lr=0.00004)"
      ],
      "metadata": {
        "id": "PtOhA3hYEYcr"
      },
      "execution_count": null,
      "outputs": []
    },
    {
      "cell_type": "code",
      "source": [
        "list(linear_model.parameters())"
      ],
      "metadata": {
        "colab": {
          "base_uri": "https://localhost:8080/"
        },
        "id": "23l8_10rLYMl",
        "outputId": "2da27781-946a-4b70-b78f-5d51da6a02ea"
      },
      "execution_count": null,
      "outputs": [
        {
          "output_type": "execute_result",
          "data": {
            "text/plain": [
              "[Parameter containing:\n",
              " tensor([[0.3429]], requires_grad=True),\n",
              " Parameter containing:\n",
              " tensor([0.3008], requires_grad=True)]"
            ]
          },
          "metadata": {},
          "execution_count": 15
        }
      ]
    },
    {
      "cell_type": "code",
      "source": [
        "loss = training_loop(\n",
        "  n_epochs = 10,\n",
        "  optimizer = optimizer,\n",
        "  model = linear_model,\n",
        "  loss_fn = nn.MSELoss(),\n",
        "  x = x,\n",
        "  y = y\n",
        ")"
      ],
      "metadata": {
        "colab": {
          "base_uri": "https://localhost:8080/"
        },
        "id": "7UJ6mUX2LYTZ",
        "outputId": "b7b9e4a9-13a0-4cfe-c7ca-39d3b65748bb"
      },
      "execution_count": null,
      "outputs": [
        {
          "output_type": "stream",
          "name": "stdout",
          "text": [
            "torch.Size([30, 1]) torch.Size([30, 1])\n",
            "Epoch 1, Loss 1016542.687500\n",
            "torch.Size([30, 1]) torch.Size([30, 1])\n",
            "Epoch 2, Loss 399795.500000\n",
            "torch.Size([30, 1]) torch.Size([30, 1])\n",
            "Epoch 3, Loss 157328.140625\n",
            "torch.Size([30, 1]) torch.Size([30, 1])\n",
            "Epoch 4, Loss 62004.714844\n",
            "torch.Size([30, 1]) torch.Size([30, 1])\n",
            "Epoch 5, Loss 24529.394531\n",
            "torch.Size([30, 1]) torch.Size([30, 1])\n",
            "Epoch 6, Loss 9796.374023\n",
            "torch.Size([30, 1]) torch.Size([30, 1])\n",
            "Epoch 7, Loss 4004.258545\n",
            "torch.Size([30, 1]) torch.Size([30, 1])\n",
            "Epoch 8, Loss 1727.151978\n",
            "torch.Size([30, 1]) torch.Size([30, 1])\n",
            "Epoch 9, Loss 831.928406\n",
            "torch.Size([30, 1]) torch.Size([30, 1])\n",
            "Epoch 10, Loss 479.986786\n"
          ]
        }
      ]
    },
    {
      "cell_type": "code",
      "source": [
        "plt.plot(loss)\n",
        "plt.xlabel('epoch')\n",
        "plt.ylabel('loss')"
      ],
      "metadata": {
        "colab": {
          "base_uri": "https://localhost:8080/",
          "height": 482
        },
        "id": "aO-iqM28LYWM",
        "outputId": "fc5e9b77-af48-4f86-db99-ddad0a19e7c6"
      },
      "execution_count": null,
      "outputs": [
        {
          "output_type": "execute_result",
          "data": {
            "text/plain": [
              "Text(0, 0.5, 'loss')"
            ]
          },
          "metadata": {},
          "execution_count": 19
        },
        {
          "output_type": "display_data",
          "data": {
            "text/plain": [
              "<Figure size 640x480 with 1 Axes>"
            ],
            "image/png": "[encoded data removed]"
          },
          "metadata": {}
        }
      ]
    },
    {
      "cell_type": "code",
      "source": [
        "# chuyển dữ liệu về dạng torch\n",
        "x = torch.tensor(data[:,0], dtype=torch.float32)\n",
        "y = torch.tensor(data[:,1], dtype=torch.float32)\n",
        "x = x.unsqueeze(1)\n",
        "\n",
        "with torch.no_grad():\n",
        "    y_hat = linear_model(x)\n",
        "plt.scatter(x, y)\n",
        "plt.plot(x, y_hat, c='r')"
      ],
      "metadata": {
        "colab": {
          "base_uri": "https://localhost:8080/",
          "height": 447
        },
        "id": "NKuMkm7HLYZS",
        "outputId": "66a76c28-2b9a-4f40-be35-772535395488"
      },
      "execution_count": null,
      "outputs": [
        {
          "output_type": "execute_result",
          "data": {
            "text/plain": [
              "[<matplotlib.lines.Line2D at 0x78e97896e800>]"
            ]
          },
          "metadata": {},
          "execution_count": 20
        },
        {
          "output_type": "display_data",
          "data": {
            "text/plain": [
              "<Figure size 640x480 with 1 Axes>"
            ],
            "image/png": "[encoded data removed]"
          },
          "metadata": {}
        }
      ]
    }
  ]
}